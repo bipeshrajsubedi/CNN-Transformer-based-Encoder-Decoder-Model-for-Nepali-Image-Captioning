{
 "cells": [
  {
   "cell_type": "code",
   "execution_count": 22,
   "id": "a44e0517",
   "metadata": {},
   "outputs": [
    {
     "name": "stdout",
     "output_type": "stream",
     "text": [
      "Requirement already satisfied: googletrans==3.1.0a0 in c:\\users\\asus\\anaconda3\\lib\\site-packages (3.1.0a0)\n",
      "Requirement already satisfied: httpx==0.13.3 in c:\\users\\asus\\anaconda3\\lib\\site-packages (from googletrans==3.1.0a0) (0.13.3)\n",
      "Requirement already satisfied: httpcore==0.9.* in c:\\users\\asus\\anaconda3\\lib\\site-packages (from httpx==0.13.3->googletrans==3.1.0a0) (0.9.1)\n",
      "Requirement already satisfied: idna==2.* in c:\\users\\asus\\anaconda3\\lib\\site-packages (from httpx==0.13.3->googletrans==3.1.0a0) (2.8)\n",
      "Requirement already satisfied: chardet==3.* in c:\\users\\asus\\anaconda3\\lib\\site-packages (from httpx==0.13.3->googletrans==3.1.0a0) (3.0.4)\n",
      "Requirement already satisfied: rfc3986<2,>=1.3 in c:\\users\\asus\\anaconda3\\lib\\site-packages (from httpx==0.13.3->googletrans==3.1.0a0) (1.5.0)\n",
      "Requirement already satisfied: sniffio in c:\\users\\asus\\anaconda3\\lib\\site-packages (from httpx==0.13.3->googletrans==3.1.0a0) (1.2.0)\n",
      "Requirement already satisfied: certifi in c:\\users\\asus\\anaconda3\\lib\\site-packages (from httpx==0.13.3->googletrans==3.1.0a0) (2021.10.8)\n",
      "Requirement already satisfied: hstspreload in c:\\users\\asus\\anaconda3\\lib\\site-packages (from httpx==0.13.3->googletrans==3.1.0a0) (2022.8.1)\n",
      "Requirement already satisfied: h2==3.* in c:\\users\\asus\\anaconda3\\lib\\site-packages (from httpcore==0.9.*->httpx==0.13.3->googletrans==3.1.0a0) (3.2.0)\n",
      "Requirement already satisfied: h11<0.10,>=0.8 in c:\\users\\asus\\anaconda3\\lib\\site-packages (from httpcore==0.9.*->httpx==0.13.3->googletrans==3.1.0a0) (0.9.0)\n",
      "Requirement already satisfied: hyperframe<6,>=5.2.0 in c:\\users\\asus\\anaconda3\\lib\\site-packages (from h2==3.*->httpcore==0.9.*->httpx==0.13.3->googletrans==3.1.0a0) (5.2.0)\n",
      "Requirement already satisfied: hpack<4,>=3.0 in c:\\users\\asus\\anaconda3\\lib\\site-packages (from h2==3.*->httpcore==0.9.*->httpx==0.13.3->googletrans==3.1.0a0) (3.0.0)\n"
     ]
    }
   ],
   "source": [
    "# Install Google translate\n",
    "!pip install googletrans==3.1.0a0"
   ]
  },
  {
   "cell_type": "code",
   "execution_count": 3,
   "id": "ccf99102",
   "metadata": {},
   "outputs": [],
   "source": [
    "# Caption Translation from English to Nepali\n",
    "import os\n",
    "import googletrans\n",
    "from googletrans import Translator\n"
   ]
  },
  {
   "cell_type": "code",
   "execution_count": 48,
   "id": "b9c5e1d8",
   "metadata": {},
   "outputs": [
    {
     "name": "stdout",
     "output_type": "stream",
     "text": [
      "978580450_e862715aba.jpg#1 एउटा केटा खुला पानीमा पौडी खेलिरहेको छ।\n",
      "978580450_e862715aba.jpg#2 एक बालक पानीबाट डुबेको छ।\n",
      "978580450_e862715aba.jpg#3 एउटा बच्चा पानीबाट माथि आउँछ।\n",
      "978580450_e862715aba.jpg#4 सानो बच्चा पानीमुनिबाट माथि आउँछ।\n",
      "979201222_75b6456d34.jpg#0 दुई केटीहरू एक मनोरञ्जन आर्केडको छेउमा हात बाँधेर हिंडिरहेका छन्।\n",
      "979201222_75b6456d34.jpg#1 दुई केटीहरू क्यामेराबाट टाढा हिंडिरहेका छन्।\n",
      "979201222_75b6456d34.jpg#2 शर्ट्स लगाएका दुई केटीहरू क्यासिनो चिन्हहरूतिर हिंड्छन्।\n",
      "979201222_75b6456d34.jpg#3 दुई किशोर केटीहरू मल ब्रीजवेमा हिंड्दै।\n",
      "979201222_75b6456d34.jpg#4 दुईजना महिला फुटपाथमा हिड्दै छन्।\n",
      "979383193_0a542a059d.jpg#0 छ जना बालबालिकाको एउटा समूह काठको टेबुलमा बसिरहेको छ।\n",
      "979383193_0a542a059d.jpg#1 युवा एशियाली बच्चाहरूको समूह टेबलमा तस्विरको लागि पोज दिँदै।\n",
      "979383193_0a542a059d.jpg#2 कालो कपाल भएका छ जना बच्चाहरू एउटा टेबलमा तस्विर हेर्न बस्छन्।\n",
      "979383193_0a542a059d.jpg#3 एक टेबलमा छ बच्चाहरू।\n",
      "979383193_0a542a059d.jpg#4 छवटा साना बच्चाहरू डेस्कमा बसिरहेका छन्।\n",
      "98377566_e4674d1ebd.jpg#0 दुईवटा खैरो र सेतो कुकुरहरूले कान उठाएर बारबाट हेर्छन्।\n",
      "98377566_e4674d1ebd.jpg#1 दुईवटा साना कुकुर आफ्नो पिंजराबाट बाहिर हेर्दै।\n",
      "98377566_e4674d1ebd.jpg#2 दुईवटा साना कुकुरहरू बाहिर पिंजरामा छन्।\n",
      "98377566_e4674d1ebd.jpg#3 पिंजरामा दुई साना कुकुरहरू।\n",
      "98377566_e4674d1ebd.jpg#4 दुईवटा सेतो र खैरो कुकुरहरू बारको विरुद्धमा।\n",
      "985067019_705fe4a4cc.jpg#0 एक केटा इन्फ्लेटेबल स्लाइड तल जान्छ।\n",
      "985067019_705fe4a4cc.jpg#1 रातो लुगा लगाएको केटा फ्ल्याटेबल सवारी तल स्लाइड गर्दै।\n",
      "985067019_705fe4a4cc.jpg#2 एउटा केटा रातो शर्ट लगाएर तल सर्दै छ।\n",
      "985067019_705fe4a4cc.jpg#3 एउटा बच्चा इन्फ्लेटेबल स्लाइड तल गइरहेको छ।\n",
      "985067019_705fe4a4cc.jpg#4 एउटा जवान केटा फ्ल्याटेबल तल चिप्लिरहेको, क्यामेरा अफ हेर्दै छ।\n",
      "987907964_5a06a63609.jpg#0 एउटा खैरो र सेतो कुकुर कालो र सेतो कुकुरलाई घाँसमा पछ्याउँदै\n",
      "987907964_5a06a63609.jpg#1 दुई कुकुरहरू घाँसबाट दौडिरहेका छन्।\n",
      "987907964_5a06a63609.jpg#2 घाँसमा दौडिरहेको दुईवटा कोकर स्प्यानिल।\n",
      "987907964_5a06a63609.jpg#3 दुईवटा कुकुर हरियो आँगनबाट दौडिरहेका छन्\n",
      "987907964_5a06a63609.jpg#4 दुईवटा कुकुरहरू घर र रूखहरू नजिकैको घाँसबाट दौडिरहेका छन्।\n",
      "989754491_7e53fb4586.jpg#0 चश्मा लगाएर पोखरीमा एउटी केटी र अन्य बच्चाहरूले घेरिएको\n",
      "989754491_7e53fb4586.jpg#1 पोखरीमा हरियो चश्मा लगाएकी एउटी केटी अन्य तीन बच्चाहरूसँग।\n",
      "989754491_7e53fb4586.jpg#2 शान्ति चिन्ह बनाउने रातो कपाल भएको केटीले नियोन हरियो चस्मा र फ्लोटी लगाएर पोखरीमा अन्य बच्चाहरूसँग खेलिरहेकी छिन्।\n",
      "989754491_7e53fb4586.jpg#3 एउटी रातो टाउको भएको केटीले पोखरीमा तैरिरहेको बेला शान्ति चिन्ह प्रदान गर्दछ।\n",
      "989754491_7e53fb4586.jpg#4 चश्मा र फ्लोटिज लगाएकी एउटी केटीले पोखरीमा खेल्दा क्यामेराको लागि पोज दिई।\n",
      "989851184_9ef368e520.jpg#0 कालो कुकुरको मुखमा डम्बेल छ।\n",
      "989851184_9ef368e520.jpg#1 कालो कुकुरको मुखमा डम्बेल छ नीलो पहिरिएको व्यक्तिलाई हेर्दै।\n",
      "989851184_9ef368e520.jpg#2 मुखमा तौल लिएको कालो कुकुर व्यक्तिको छेउमा उभिएको छ।\n",
      "989851184_9ef368e520.jpg#3 एउटा कालो कुकुरले मुखमा सानो सेतो डम्बेल राखेको छ।\n",
      "989851184_9ef368e520.jpg#4 कालो कुकुरको मुखमा खेलौना छ र एकजना मानिस नजिकै उभिएको छ।\n",
      "990890291_afc72be141.jpg#0 एक जना मानिस फुटपाथमा आफ्नो साइकलमा चक्का चलाउँछन्।\n",
      "990890291_afc72be141.jpg#1 एकजना मानिस माउन्टेन साइकलमा व्हीली गर्दै छन्।\n",
      "990890291_afc72be141.jpg#2 साइकलमा सवार मान्छे पछाडिको पाङ्ग्रामा मात्र हुन्छ।\n",
      "990890291_afc72be141.jpg#3 सुन्तला टोपी लगाएको एसियाली मानिस आफ्नो बाइकमा ह्वीली पप गर्दैछ।\n",
      "990890291_afc72be141.jpg#4 साइकलमा सवार मानिस एउटै पाङ्ग्रामा सवार।\n",
      "99171998_7cc800ceef.jpg#0 एउटा समुह हिउँले भरिएको प्वाल वरिपरि बसिरहेको छ।\n",
      "99171998_7cc800ceef.jpg#1 मानिसहरूको एउटा समूह हिउँ परेको पहाडमा बसिरहेको छ।\n",
      "99171998_7cc800ceef.jpg#2 मानिसहरूको एउटा समूह हिमालको दृश्यलाई हेरेर हिउँमा बसिरहेको छ।\n",
      "99171998_7cc800ceef.jpg#3 पाँच बच्चाहरू स्लेजको लागि तयार हुँदैछन्।\n",
      "99171998_7cc800ceef.jpg#4 पाँच जना हिउँमा सँगै बसिरहेका छन्।\n",
      "99679241_adc853a5c0.jpg#0 एउटा खैरो चरा समुद्र तटमा भव्य रूपमा उभिएको छ जबकि छालहरू भित्र पस्छन्।\n",
      "99679241_adc853a5c0.jpg#1 एउटा ठूलो चरा समुद्र तटको पानीमा उभिएको छ।\n",
      "99679241_adc853a5c0.jpg#2 एउटा अग्लो चरा समुन्द्रको छेउमा बालुवामा उभिरहेको छ।\n",
      "99679241_adc853a5c0.jpg#3 समुद्रको छेउमा उभिएको पानीको चरा।\n",
      "99679241_adc853a5c0.jpg#4 एउटा सेतो क्रेन समुद्रमा हेर्दा अग्लो हुन्छ।\n",
      "997338199_7343367d7f.jpg#0 एक व्यक्ति सुनको पर्खालको छेउमा उभिएको छ।\n",
      "997338199_7343367d7f.jpg#1 स्क्रोल गरिएको पर्खाल पछाडि एउटी महिला लेखिरहेकी छिन्\n",
      "997338199_7343367d7f.jpg#2 सजाइएको पर्खालको छेउमा उभिएकी महिला लेख्छिन्।\n",
      "997338199_7343367d7f.jpg#3 भित्ताहरू सुन र ढाँचाले ढाकिएका छन्।\n",
      "997338199_7343367d7f.jpg#4 सुनको, सजाइएको पर्खालको कोठामा प्याडमा लेख्दै महिला।\n",
      "997722733_0cb5439472.jpg#0 गुलाबी शर्ट लगाएको मान्छे चट्टानको अनुहारमा चढ्दै छ\n",
      "997722733_0cb5439472.jpg#1 एउटा मानिस हावामा उचाइमा चट्टान चढिरहेको छ।\n",
      "997722733_0cb5439472.jpg#2 रातो शर्ट लगाएको एक व्यक्ति असिस्ट ह्यान्डलले ढाकिएको चट्टान अनुहार माथि चढिरहेको छ।\n",
      "997722733_0cb5439472.jpg#3 रातो शर्ट लगाएको चट्टान आरोही।\n",
      "997722733_0cb5439472.jpg#4 एक चट्टान आरोही भित्तामा चढ्ने अभ्यास गर्दै।\n"
     ]
    }
   ],
   "source": [
    "# Import datasets\n",
    "# Translate to Nepali and save as a new file\n",
    "with open(\"Flickr8k.token.txt\",'r') as english_text_data:\n",
    "    translator = Translator()\n",
    "    contents = english_text_data.readlines()\n",
    "    count = 0\n",
    "    translated_text = open(\"translated_text_nepali.txt\",'w', encoding=\"utf-8\")\n",
    "    for line in contents:\n",
    "        try:\n",
    "            count+=1\n",
    "            result = translator.translate(line,src='en',dest='ne')\n",
    "            translated_text.write(result.text + \"\\n\")\n",
    "            print(result.text)\n",
    "        except:\n",
    "            print(count)"
   ]
  }
 ],
 "metadata": {
  "kernelspec": {
   "display_name": "Python 3 (ipykernel)",
   "language": "python",
   "name": "python3"
  },
  "language_info": {
   "codemirror_mode": {
    "name": "ipython",
    "version": 3
   },
   "file_extension": ".py",
   "mimetype": "text/x-python",
   "name": "python",
   "nbconvert_exporter": "python",
   "pygments_lexer": "ipython3",
   "version": "3.9.7"
  }
 },
 "nbformat": 4,
 "nbformat_minor": 5
}
